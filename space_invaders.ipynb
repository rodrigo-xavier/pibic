{
  "nbformat": 4,
  "nbformat_minor": 0,
  "metadata": {
    "colab": {
      "name": "space-invaders.ipynb",
      "provenance": [],
      "include_colab_link": true
    },
    "kernelspec": {
      "name": "python3",
      "display_name": "Python 3"
    }
  },
  "cells": [
    {
      "cell_type": "markdown",
      "metadata": {
        "id": "view-in-github",
        "colab_type": "text"
      },
      "source": [
        "<a href=\"https://colab.research.google.com/github/rodrigo-xavier/pibic/blob/master/space_invaders.ipynb\" target=\"_parent\"><img src=\"https://colab.research.google.com/assets/colab-badge.svg\" alt=\"Open In Colab\"/></a>"
      ]
    },
    {
      "cell_type": "markdown",
      "metadata": {
        "id": "VwSH13CtM224",
        "colab_type": "text"
      },
      "source": [
        "**Conect to DropBox**"
      ]
    },
    {
      "cell_type": "code",
      "metadata": {
        "id": "6l_k3OBqMRt5",
        "colab_type": "code",
        "colab": {}
      },
      "source": [
        "!git clone https://github.com/andreafabrizi/Dropbox-Uploader.git"
      ],
      "execution_count": 0,
      "outputs": []
    },
    {
      "cell_type": "code",
      "metadata": {
        "id": "gn6gKuU0OzXK",
        "colab_type": "code",
        "colab": {}
      },
      "source": [
        "cd Dropbox-Uploader"
      ],
      "execution_count": 0,
      "outputs": []
    },
    {
      "cell_type": "code",
      "metadata": {
        "id": "ho4fOXNKO4Ug",
        "colab_type": "code",
        "colab": {}
      },
      "source": [
        "!chmod +x dropbox_uploader.sh"
      ],
      "execution_count": 0,
      "outputs": []
    },
    {
      "cell_type": "code",
      "metadata": {
        "id": "HJ8-ODVNO-DR",
        "colab_type": "code",
        "colab": {}
      },
      "source": [
        "!./dropbox_uploader.sh"
      ],
      "execution_count": 0,
      "outputs": []
    },
    {
      "cell_type": "code",
      "metadata": {
        "id": "HJYauGGrh0f4",
        "colab_type": "code",
        "colab": {}
      },
      "source": [
        "cd .."
      ],
      "execution_count": 0,
      "outputs": []
    },
    {
      "cell_type": "markdown",
      "metadata": {
        "id": "5dK2zzp9wHPe",
        "colab_type": "text"
      },
      "source": [
        "**Download database from DropBox**"
      ]
    },
    {
      "cell_type": "code",
      "metadata": {
        "id": "kmIYe71oPdTj",
        "colab_type": "code",
        "colab": {}
      },
      "source": [
        "!/Dropbox-Uploader/./dropbox_uploader.sh download PIBIC_Alec_Rodrigo/Rodrigo/database"
      ],
      "execution_count": 0,
      "outputs": []
    },
    {
      "cell_type": "markdown",
      "metadata": {
        "id": "cLo_gBsoNCZ0",
        "colab_type": "text"
      },
      "source": [
        "**Get project from GitHub**"
      ]
    },
    {
      "cell_type": "code",
      "metadata": {
        "id": "CYyLv0iQXq0v",
        "colab_type": "code",
        "colab": {}
      },
      "source": [
        "!git clone https://github.com/rodrigo-xavier/pibic.git"
      ],
      "execution_count": 0,
      "outputs": []
    },
    {
      "cell_type": "code",
      "metadata": {
        "id": "Gm9IVl41wDiM",
        "colab_type": "code",
        "colab": {}
      },
      "source": [
        "mv database/ pibic/"
      ],
      "execution_count": 0,
      "outputs": []
    },
    {
      "cell_type": "markdown",
      "metadata": {
        "id": "e3ax0BWWNSDK",
        "colab_type": "text"
      },
      "source": [
        "**Install additional requirements**"
      ]
    },
    {
      "cell_type": "code",
      "metadata": {
        "id": "XqM-GbYLLnom",
        "colab_type": "code",
        "colab": {}
      },
      "source": [
        "pip install keyboard"
      ],
      "execution_count": 0,
      "outputs": []
    },
    {
      "cell_type": "markdown",
      "metadata": {
        "id": "b3PGiMMoNdWu",
        "colab_type": "text"
      },
      "source": [
        "**Run Project**"
      ]
    },
    {
      "cell_type": "code",
      "metadata": {
        "id": "rdDnSAfyLbHQ",
        "colab_type": "code",
        "colab": {}
      },
      "source": [
        "cd pibic/"
      ],
      "execution_count": 0,
      "outputs": []
    },
    {
      "cell_type": "code",
      "metadata": {
        "id": "56O6VGAtNhdL",
        "colab_type": "code",
        "colab": {}
      },
      "source": [
        "python run.py"
      ],
      "execution_count": 0,
      "outputs": []
    }
  ]
}